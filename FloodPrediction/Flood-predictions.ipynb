{
 "cells": [
  {
   "cell_type": "markdown",
   "id": "774b6d68",
   "metadata": {},
   "source": [
    "# Introduction"
   ]
  },
  {
   "cell_type": "markdown",
   "id": "7e30a45f",
   "metadata": {},
   "source": [
    "Flood dataset consist of annual rainfall index of KARELA india, The town is prone to to flood due to the follow reasons:\n",
    "Heavy rainfall, Over population, Deforestation, Changing the flows of river and so on."
   ]
  },
  {
   "cell_type": "markdown",
   "id": "bc428205",
   "metadata": {},
   "source": [
    "# Questions"
   ]
  },
  {
   "cell_type": "markdown",
   "id": "ab1a3440",
   "metadata": {},
   "source": [
    "Which of the month influenced the flooding??\n",
    "\n",
    "What is the highest value of annual rainfall index?\n",
    "\n",
    "What is the lowest value of annual rainfall index?\n",
    "\n",
    "Was there flood when we have the minimum value for annual rainfall index?\n",
    "\n",
    "Was there flood when we have the maximum value for annual rainfall index?\n",
    "\n",
    "There are many questions to be asked base on different angle at which the data is been look into"
   ]
  },
  {
   "cell_type": "markdown",
   "id": "a3ebf93f",
   "metadata": {},
   "source": [
    "# Lets get started\n",
    "\n",
    "Import all the liberaries to be used"
   ]
  },
  {
   "cell_type": "code",
   "execution_count": 4,
   "id": "56bcde7b",
   "metadata": {},
   "outputs": [],
   "source": [
    "import pandas as pd\n",
    "import numpy as np\n",
    "import matplotlib.pyplot as plt\n",
    "%matplotlib inline\n",
    "import seaborn as snb\n",
    "from sklearn.linear_model import LogisticRegression"
   ]
  },
  {
   "cell_type": "markdown",
   "id": "ad4dd7c0",
   "metadata": {},
   "source": [
    "load the dateset"
   ]
  },
  {
   "cell_type": "code",
   "execution_count": 5,
   "id": "581ed062",
   "metadata": {},
   "outputs": [],
   "source": [
    "fd = pd.read_csv('C:/Users/user/Desktop/new 1/data science/kerala.csv')"
   ]
  },
  {
   "cell_type": "markdown",
   "id": "fe840998",
   "metadata": {},
   "source": [
    "display the dimension of the dataset"
   ]
  },
  {
   "cell_type": "code",
   "execution_count": 6,
   "id": "0427a16c",
   "metadata": {},
   "outputs": [
    {
     "data": {
      "text/plain": [
       "(118, 16)"
      ]
     },
     "execution_count": 6,
     "metadata": {},
     "output_type": "execute_result"
    }
   ],
   "source": [
    "fd.shape"
   ]
  },
  {
   "cell_type": "markdown",
   "id": "a1155f68",
   "metadata": {},
   "source": [
    "The dateset consist of 118 Rows with 16 Columns"
   ]
  },
  {
   "cell_type": "markdown",
   "id": "f20392df",
   "metadata": {},
   "source": [
    "Lets check the  data information to identify the cleaning and tidyness issue"
   ]
  },
  {
   "cell_type": "code",
   "execution_count": 7,
   "id": "f2ce88be",
   "metadata": {},
   "outputs": [
    {
     "name": "stdout",
     "output_type": "stream",
     "text": [
      "<class 'pandas.core.frame.DataFrame'>\n",
      "RangeIndex: 118 entries, 0 to 117\n",
      "Data columns (total 16 columns):\n",
      " #   Column            Non-Null Count  Dtype  \n",
      "---  ------            --------------  -----  \n",
      " 0   SUBDIVISION       118 non-null    object \n",
      " 1   YEAR              118 non-null    int64  \n",
      " 2   JAN               118 non-null    float64\n",
      " 3   FEB               118 non-null    float64\n",
      " 4   MAR               118 non-null    float64\n",
      " 5   APR               118 non-null    float64\n",
      " 6   MAY               118 non-null    float64\n",
      " 7   JUN               118 non-null    float64\n",
      " 8   JUL               118 non-null    float64\n",
      " 9   AUG               118 non-null    float64\n",
      " 10  SEP               118 non-null    float64\n",
      " 11  OCT               118 non-null    float64\n",
      " 12  NOV               118 non-null    float64\n",
      " 13  DEC               118 non-null    float64\n",
      " 14   ANNUAL RAINFALL  118 non-null    float64\n",
      " 15  FLOODS            118 non-null    object \n",
      "dtypes: float64(13), int64(1), object(2)\n",
      "memory usage: 14.9+ KB\n"
     ]
    }
   ],
   "source": [
    "fd.info()"
   ]
  },
  {
   "cell_type": "markdown",
   "id": "1f9644f0",
   "metadata": {},
   "source": [
    "The data types are in order except FLOODS column that will need to be change to boolen"
   ]
  },
  {
   "cell_type": "markdown",
   "id": "b65f6fd9",
   "metadata": {},
   "source": [
    "Check if there is null value"
   ]
  },
  {
   "cell_type": "code",
   "execution_count": 9,
   "id": "be2688a4",
   "metadata": {},
   "outputs": [
    {
     "data": {
      "text/plain": [
       "SUBDIVISION         0\n",
       "YEAR                0\n",
       "JAN                 0\n",
       "FEB                 0\n",
       "MAR                 0\n",
       "APR                 0\n",
       "MAY                 0\n",
       "JUN                 0\n",
       "JUL                 0\n",
       "AUG                 0\n",
       "SEP                 0\n",
       "OCT                 0\n",
       "NOV                 0\n",
       "DEC                 0\n",
       " ANNUAL RAINFALL    0\n",
       "FLOODS              0\n",
       "dtype: int64"
      ]
     },
     "execution_count": 9,
     "metadata": {},
     "output_type": "execute_result"
    }
   ],
   "source": [
    "fd.isnull().sum()"
   ]
  },
  {
   "cell_type": "markdown",
   "id": "fe28c0f1",
   "metadata": {},
   "source": [
    "No null value in the dataset"
   ]
  },
  {
   "cell_type": "markdown",
   "id": "56da3842",
   "metadata": {},
   "source": [
    "Lets get the summary of the data"
   ]
  },
  {
   "cell_type": "code",
   "execution_count": 12,
   "id": "100d3687",
   "metadata": {},
   "outputs": [
    {
     "data": {
      "text/html": [
       "<div>\n",
       "<style scoped>\n",
       "    .dataframe tbody tr th:only-of-type {\n",
       "        vertical-align: middle;\n",
       "    }\n",
       "\n",
       "    .dataframe tbody tr th {\n",
       "        vertical-align: top;\n",
       "    }\n",
       "\n",
       "    .dataframe thead th {\n",
       "        text-align: right;\n",
       "    }\n",
       "</style>\n",
       "<table border=\"1\" class=\"dataframe\">\n",
       "  <thead>\n",
       "    <tr style=\"text-align: right;\">\n",
       "      <th></th>\n",
       "      <th>YEAR</th>\n",
       "      <th>JAN</th>\n",
       "      <th>FEB</th>\n",
       "      <th>MAR</th>\n",
       "      <th>APR</th>\n",
       "      <th>MAY</th>\n",
       "      <th>JUN</th>\n",
       "      <th>JUL</th>\n",
       "      <th>AUG</th>\n",
       "      <th>SEP</th>\n",
       "      <th>OCT</th>\n",
       "      <th>NOV</th>\n",
       "      <th>DEC</th>\n",
       "      <th>ANNUAL RAINFALL</th>\n",
       "    </tr>\n",
       "  </thead>\n",
       "  <tbody>\n",
       "    <tr>\n",
       "      <th>count</th>\n",
       "      <td>118.000000</td>\n",
       "      <td>118.000000</td>\n",
       "      <td>118.000000</td>\n",
       "      <td>118.000000</td>\n",
       "      <td>118.000000</td>\n",
       "      <td>118.000000</td>\n",
       "      <td>118.000000</td>\n",
       "      <td>118.000000</td>\n",
       "      <td>118.000000</td>\n",
       "      <td>118.000000</td>\n",
       "      <td>118.000000</td>\n",
       "      <td>118.000000</td>\n",
       "      <td>118.000000</td>\n",
       "      <td>118.000000</td>\n",
       "    </tr>\n",
       "    <tr>\n",
       "      <th>mean</th>\n",
       "      <td>1959.500000</td>\n",
       "      <td>12.218644</td>\n",
       "      <td>15.633898</td>\n",
       "      <td>36.670339</td>\n",
       "      <td>110.330508</td>\n",
       "      <td>228.644915</td>\n",
       "      <td>651.617797</td>\n",
       "      <td>698.220339</td>\n",
       "      <td>430.369492</td>\n",
       "      <td>246.207627</td>\n",
       "      <td>293.207627</td>\n",
       "      <td>162.311017</td>\n",
       "      <td>40.009322</td>\n",
       "      <td>2925.405085</td>\n",
       "    </tr>\n",
       "    <tr>\n",
       "      <th>std</th>\n",
       "      <td>34.207699</td>\n",
       "      <td>15.473766</td>\n",
       "      <td>16.406290</td>\n",
       "      <td>30.063862</td>\n",
       "      <td>44.633452</td>\n",
       "      <td>147.548778</td>\n",
       "      <td>186.181363</td>\n",
       "      <td>228.988966</td>\n",
       "      <td>181.980463</td>\n",
       "      <td>121.901131</td>\n",
       "      <td>93.705253</td>\n",
       "      <td>83.200485</td>\n",
       "      <td>36.676330</td>\n",
       "      <td>452.169407</td>\n",
       "    </tr>\n",
       "    <tr>\n",
       "      <th>min</th>\n",
       "      <td>1901.000000</td>\n",
       "      <td>0.000000</td>\n",
       "      <td>0.000000</td>\n",
       "      <td>0.100000</td>\n",
       "      <td>13.100000</td>\n",
       "      <td>53.400000</td>\n",
       "      <td>196.800000</td>\n",
       "      <td>167.500000</td>\n",
       "      <td>178.600000</td>\n",
       "      <td>41.300000</td>\n",
       "      <td>68.500000</td>\n",
       "      <td>31.500000</td>\n",
       "      <td>0.100000</td>\n",
       "      <td>2068.800000</td>\n",
       "    </tr>\n",
       "    <tr>\n",
       "      <th>25%</th>\n",
       "      <td>1930.250000</td>\n",
       "      <td>2.175000</td>\n",
       "      <td>4.700000</td>\n",
       "      <td>18.100000</td>\n",
       "      <td>74.350000</td>\n",
       "      <td>125.050000</td>\n",
       "      <td>535.550000</td>\n",
       "      <td>533.200000</td>\n",
       "      <td>316.725000</td>\n",
       "      <td>155.425000</td>\n",
       "      <td>222.125000</td>\n",
       "      <td>93.025000</td>\n",
       "      <td>10.350000</td>\n",
       "      <td>2613.525000</td>\n",
       "    </tr>\n",
       "    <tr>\n",
       "      <th>50%</th>\n",
       "      <td>1959.500000</td>\n",
       "      <td>5.800000</td>\n",
       "      <td>8.350000</td>\n",
       "      <td>28.400000</td>\n",
       "      <td>110.400000</td>\n",
       "      <td>184.600000</td>\n",
       "      <td>625.600000</td>\n",
       "      <td>691.650000</td>\n",
       "      <td>386.250000</td>\n",
       "      <td>223.550000</td>\n",
       "      <td>284.300000</td>\n",
       "      <td>152.450000</td>\n",
       "      <td>31.100000</td>\n",
       "      <td>2934.300000</td>\n",
       "    </tr>\n",
       "    <tr>\n",
       "      <th>75%</th>\n",
       "      <td>1988.750000</td>\n",
       "      <td>18.175000</td>\n",
       "      <td>21.400000</td>\n",
       "      <td>49.825000</td>\n",
       "      <td>136.450000</td>\n",
       "      <td>264.875000</td>\n",
       "      <td>786.975000</td>\n",
       "      <td>832.425000</td>\n",
       "      <td>500.100000</td>\n",
       "      <td>334.500000</td>\n",
       "      <td>355.150000</td>\n",
       "      <td>218.325000</td>\n",
       "      <td>54.025000</td>\n",
       "      <td>3170.400000</td>\n",
       "    </tr>\n",
       "    <tr>\n",
       "      <th>max</th>\n",
       "      <td>2018.000000</td>\n",
       "      <td>83.500000</td>\n",
       "      <td>79.000000</td>\n",
       "      <td>217.200000</td>\n",
       "      <td>238.000000</td>\n",
       "      <td>738.800000</td>\n",
       "      <td>1098.200000</td>\n",
       "      <td>1526.500000</td>\n",
       "      <td>1398.900000</td>\n",
       "      <td>526.700000</td>\n",
       "      <td>567.900000</td>\n",
       "      <td>365.600000</td>\n",
       "      <td>202.300000</td>\n",
       "      <td>4473.000000</td>\n",
       "    </tr>\n",
       "  </tbody>\n",
       "</table>\n",
       "</div>"
      ],
      "text/plain": [
       "              YEAR         JAN         FEB         MAR         APR  \\\n",
       "count   118.000000  118.000000  118.000000  118.000000  118.000000   \n",
       "mean   1959.500000   12.218644   15.633898   36.670339  110.330508   \n",
       "std      34.207699   15.473766   16.406290   30.063862   44.633452   \n",
       "min    1901.000000    0.000000    0.000000    0.100000   13.100000   \n",
       "25%    1930.250000    2.175000    4.700000   18.100000   74.350000   \n",
       "50%    1959.500000    5.800000    8.350000   28.400000  110.400000   \n",
       "75%    1988.750000   18.175000   21.400000   49.825000  136.450000   \n",
       "max    2018.000000   83.500000   79.000000  217.200000  238.000000   \n",
       "\n",
       "              MAY          JUN          JUL          AUG         SEP  \\\n",
       "count  118.000000   118.000000   118.000000   118.000000  118.000000   \n",
       "mean   228.644915   651.617797   698.220339   430.369492  246.207627   \n",
       "std    147.548778   186.181363   228.988966   181.980463  121.901131   \n",
       "min     53.400000   196.800000   167.500000   178.600000   41.300000   \n",
       "25%    125.050000   535.550000   533.200000   316.725000  155.425000   \n",
       "50%    184.600000   625.600000   691.650000   386.250000  223.550000   \n",
       "75%    264.875000   786.975000   832.425000   500.100000  334.500000   \n",
       "max    738.800000  1098.200000  1526.500000  1398.900000  526.700000   \n",
       "\n",
       "              OCT         NOV         DEC   ANNUAL RAINFALL  \n",
       "count  118.000000  118.000000  118.000000        118.000000  \n",
       "mean   293.207627  162.311017   40.009322       2925.405085  \n",
       "std     93.705253   83.200485   36.676330        452.169407  \n",
       "min     68.500000   31.500000    0.100000       2068.800000  \n",
       "25%    222.125000   93.025000   10.350000       2613.525000  \n",
       "50%    284.300000  152.450000   31.100000       2934.300000  \n",
       "75%    355.150000  218.325000   54.025000       3170.400000  \n",
       "max    567.900000  365.600000  202.300000       4473.000000  "
      ]
     },
     "execution_count": 12,
     "metadata": {},
     "output_type": "execute_result"
    }
   ],
   "source": [
    "fd.describe()"
   ]
  },
  {
   "cell_type": "markdown",
   "id": "dcf9ea57",
   "metadata": {},
   "source": [
    "we have the highest annual rain fall index to be 4473 and it floods why the lowest is 2068 and no flood with mean of 2934"
   ]
  },
  {
   "cell_type": "markdown",
   "id": "0176158f",
   "metadata": {},
   "source": [
    "Rename the ANNUAL RAIN FALL "
   ]
  },
  {
   "cell_type": "code",
   "execution_count": 13,
   "id": "614f4090",
   "metadata": {},
   "outputs": [],
   "source": [
    "#RENAME THE COLUMN\n",
    "fd.rename(columns ={' ANNUAL RAINFALL': 'ANNUAL_RAINFALL'}, inplace = True)"
   ]
  },
  {
   "cell_type": "markdown",
   "id": "760d8674",
   "metadata": {},
   "source": [
    "### EXPLORATORY ANALYSIS"
   ]
  },
  {
   "cell_type": "markdown",
   "id": "82442488",
   "metadata": {},
   "source": [
    "Get the first 10 with smallest Rainfall with their flood state"
   ]
  },
  {
   "cell_type": "code",
   "execution_count": 14,
   "id": "9e8a2fcb",
   "metadata": {},
   "outputs": [
    {
     "data": {
      "text/html": [
       "<div>\n",
       "<style scoped>\n",
       "    .dataframe tbody tr th:only-of-type {\n",
       "        vertical-align: middle;\n",
       "    }\n",
       "\n",
       "    .dataframe tbody tr th {\n",
       "        vertical-align: top;\n",
       "    }\n",
       "\n",
       "    .dataframe thead th {\n",
       "        text-align: right;\n",
       "    }\n",
       "</style>\n",
       "<table border=\"1\" class=\"dataframe\">\n",
       "  <thead>\n",
       "    <tr style=\"text-align: right;\">\n",
       "      <th></th>\n",
       "      <th>SUBDIVISION</th>\n",
       "      <th>YEAR</th>\n",
       "      <th>JAN</th>\n",
       "      <th>FEB</th>\n",
       "      <th>MAR</th>\n",
       "      <th>APR</th>\n",
       "      <th>MAY</th>\n",
       "      <th>JUN</th>\n",
       "      <th>JUL</th>\n",
       "      <th>AUG</th>\n",
       "      <th>SEP</th>\n",
       "      <th>OCT</th>\n",
       "      <th>NOV</th>\n",
       "      <th>DEC</th>\n",
       "      <th>ANNUAL_RAINFALL</th>\n",
       "      <th>FLOODS</th>\n",
       "    </tr>\n",
       "  </thead>\n",
       "  <tbody>\n",
       "    <tr>\n",
       "      <th>75</th>\n",
       "      <td>KERALA</td>\n",
       "      <td>1976</td>\n",
       "      <td>0.1</td>\n",
       "      <td>1.5</td>\n",
       "      <td>21.0</td>\n",
       "      <td>134.5</td>\n",
       "      <td>75.8</td>\n",
       "      <td>196.8</td>\n",
       "      <td>641.5</td>\n",
       "      <td>342.6</td>\n",
       "      <td>116.2</td>\n",
       "      <td>221.3</td>\n",
       "      <td>286.7</td>\n",
       "      <td>30.8</td>\n",
       "      <td>2068.8</td>\n",
       "      <td>NO</td>\n",
       "    </tr>\n",
       "    <tr>\n",
       "      <th>85</th>\n",
       "      <td>KERALA</td>\n",
       "      <td>1986</td>\n",
       "      <td>5.6</td>\n",
       "      <td>18.7</td>\n",
       "      <td>11.2</td>\n",
       "      <td>63.1</td>\n",
       "      <td>126.7</td>\n",
       "      <td>597.9</td>\n",
       "      <td>324.8</td>\n",
       "      <td>340.3</td>\n",
       "      <td>235.4</td>\n",
       "      <td>165.5</td>\n",
       "      <td>194.7</td>\n",
       "      <td>9.5</td>\n",
       "      <td>2093.2</td>\n",
       "      <td>NO</td>\n",
       "    </tr>\n",
       "    <tr>\n",
       "      <th>116</th>\n",
       "      <td>KERALA</td>\n",
       "      <td>2017</td>\n",
       "      <td>1.9</td>\n",
       "      <td>6.8</td>\n",
       "      <td>8.9</td>\n",
       "      <td>43.6</td>\n",
       "      <td>173.5</td>\n",
       "      <td>498.5</td>\n",
       "      <td>319.6</td>\n",
       "      <td>531.8</td>\n",
       "      <td>209.5</td>\n",
       "      <td>192.4</td>\n",
       "      <td>92.5</td>\n",
       "      <td>38.1</td>\n",
       "      <td>2117.1</td>\n",
       "      <td>NO</td>\n",
       "    </tr>\n",
       "    <tr>\n",
       "      <th>86</th>\n",
       "      <td>KERALA</td>\n",
       "      <td>1987</td>\n",
       "      <td>0.6</td>\n",
       "      <td>0.8</td>\n",
       "      <td>4.3</td>\n",
       "      <td>57.2</td>\n",
       "      <td>108.3</td>\n",
       "      <td>572.6</td>\n",
       "      <td>221.0</td>\n",
       "      <td>396.6</td>\n",
       "      <td>157.0</td>\n",
       "      <td>272.1</td>\n",
       "      <td>216.0</td>\n",
       "      <td>131.1</td>\n",
       "      <td>2137.6</td>\n",
       "      <td>NO</td>\n",
       "    </tr>\n",
       "    <tr>\n",
       "      <th>111</th>\n",
       "      <td>KERALA</td>\n",
       "      <td>2012</td>\n",
       "      <td>7.4</td>\n",
       "      <td>11.0</td>\n",
       "      <td>21.0</td>\n",
       "      <td>171.1</td>\n",
       "      <td>95.3</td>\n",
       "      <td>430.3</td>\n",
       "      <td>362.6</td>\n",
       "      <td>501.6</td>\n",
       "      <td>241.1</td>\n",
       "      <td>187.5</td>\n",
       "      <td>112.9</td>\n",
       "      <td>9.4</td>\n",
       "      <td>2151.1</td>\n",
       "      <td>NO</td>\n",
       "    </tr>\n",
       "    <tr>\n",
       "      <th>115</th>\n",
       "      <td>KERALA</td>\n",
       "      <td>2016</td>\n",
       "      <td>2.4</td>\n",
       "      <td>3.8</td>\n",
       "      <td>35.9</td>\n",
       "      <td>143.0</td>\n",
       "      <td>186.4</td>\n",
       "      <td>522.2</td>\n",
       "      <td>412.3</td>\n",
       "      <td>325.5</td>\n",
       "      <td>173.2</td>\n",
       "      <td>225.9</td>\n",
       "      <td>125.4</td>\n",
       "      <td>23.6</td>\n",
       "      <td>2176.6</td>\n",
       "      <td>NO</td>\n",
       "    </tr>\n",
       "    <tr>\n",
       "      <th>81</th>\n",
       "      <td>KERALA</td>\n",
       "      <td>1982</td>\n",
       "      <td>0.7</td>\n",
       "      <td>0.1</td>\n",
       "      <td>21.9</td>\n",
       "      <td>60.4</td>\n",
       "      <td>148.2</td>\n",
       "      <td>612.2</td>\n",
       "      <td>511.5</td>\n",
       "      <td>495.0</td>\n",
       "      <td>70.6</td>\n",
       "      <td>164.4</td>\n",
       "      <td>127.5</td>\n",
       "      <td>10.8</td>\n",
       "      <td>2223.3</td>\n",
       "      <td>NO</td>\n",
       "    </tr>\n",
       "    <tr>\n",
       "      <th>82</th>\n",
       "      <td>KERALA</td>\n",
       "      <td>1983</td>\n",
       "      <td>0.2</td>\n",
       "      <td>1.5</td>\n",
       "      <td>0.9</td>\n",
       "      <td>13.1</td>\n",
       "      <td>76.0</td>\n",
       "      <td>322.8</td>\n",
       "      <td>583.2</td>\n",
       "      <td>579.9</td>\n",
       "      <td>421.1</td>\n",
       "      <td>136.2</td>\n",
       "      <td>116.5</td>\n",
       "      <td>69.1</td>\n",
       "      <td>2320.3</td>\n",
       "      <td>NO</td>\n",
       "    </tr>\n",
       "    <tr>\n",
       "      <th>51</th>\n",
       "      <td>KERALA</td>\n",
       "      <td>1952</td>\n",
       "      <td>5.2</td>\n",
       "      <td>48.2</td>\n",
       "      <td>20.8</td>\n",
       "      <td>112.2</td>\n",
       "      <td>214.6</td>\n",
       "      <td>576.7</td>\n",
       "      <td>430.0</td>\n",
       "      <td>413.6</td>\n",
       "      <td>57.4</td>\n",
       "      <td>339.6</td>\n",
       "      <td>49.6</td>\n",
       "      <td>66.9</td>\n",
       "      <td>2334.8</td>\n",
       "      <td>NO</td>\n",
       "    </tr>\n",
       "    <tr>\n",
       "      <th>64</th>\n",
       "      <td>KERALA</td>\n",
       "      <td>1965</td>\n",
       "      <td>9.1</td>\n",
       "      <td>0.9</td>\n",
       "      <td>28.3</td>\n",
       "      <td>109.8</td>\n",
       "      <td>214.5</td>\n",
       "      <td>597.7</td>\n",
       "      <td>465.1</td>\n",
       "      <td>296.1</td>\n",
       "      <td>150.1</td>\n",
       "      <td>183.7</td>\n",
       "      <td>131.7</td>\n",
       "      <td>155.5</td>\n",
       "      <td>2342.4</td>\n",
       "      <td>NO</td>\n",
       "    </tr>\n",
       "  </tbody>\n",
       "</table>\n",
       "</div>"
      ],
      "text/plain": [
       "    SUBDIVISION  YEAR  JAN   FEB   MAR    APR    MAY    JUN    JUL    AUG  \\\n",
       "75       KERALA  1976  0.1   1.5  21.0  134.5   75.8  196.8  641.5  342.6   \n",
       "85       KERALA  1986  5.6  18.7  11.2   63.1  126.7  597.9  324.8  340.3   \n",
       "116     KERALA   2017  1.9   6.8   8.9   43.6  173.5  498.5  319.6  531.8   \n",
       "86       KERALA  1987  0.6   0.8   4.3   57.2  108.3  572.6  221.0  396.6   \n",
       "111      KERALA  2012  7.4  11.0  21.0  171.1   95.3  430.3  362.6  501.6   \n",
       "115      KERALA  2016  2.4   3.8  35.9  143.0  186.4  522.2  412.3  325.5   \n",
       "81       KERALA  1982  0.7   0.1  21.9   60.4  148.2  612.2  511.5  495.0   \n",
       "82       KERALA  1983  0.2   1.5   0.9   13.1   76.0  322.8  583.2  579.9   \n",
       "51       KERALA  1952  5.2  48.2  20.8  112.2  214.6  576.7  430.0  413.6   \n",
       "64       KERALA  1965  9.1   0.9  28.3  109.8  214.5  597.7  465.1  296.1   \n",
       "\n",
       "       SEP    OCT    NOV    DEC  ANNUAL_RAINFALL FLOODS  \n",
       "75   116.2  221.3  286.7   30.8           2068.8     NO  \n",
       "85   235.4  165.5  194.7    9.5           2093.2     NO  \n",
       "116  209.5  192.4   92.5   38.1           2117.1     NO  \n",
       "86   157.0  272.1  216.0  131.1           2137.6     NO  \n",
       "111  241.1  187.5  112.9    9.4           2151.1     NO  \n",
       "115  173.2  225.9  125.4   23.6           2176.6     NO  \n",
       "81    70.6  164.4  127.5   10.8           2223.3     NO  \n",
       "82   421.1  136.2  116.5   69.1           2320.3     NO  \n",
       "51    57.4  339.6   49.6   66.9           2334.8     NO  \n",
       "64   150.1  183.7  131.7  155.5           2342.4     NO  "
      ]
     },
     "execution_count": 14,
     "metadata": {},
     "output_type": "execute_result"
    }
   ],
   "source": [
    "fns =fd.nsmallest(10, 'ANNUAL_RAINFALL')\n",
    "fns.head(10)"
   ]
  },
  {
   "cell_type": "markdown",
   "id": "6ca36798",
   "metadata": {},
   "source": [
    "you can see the years with the lowest rain fall index and no flood in these years"
   ]
  },
  {
   "cell_type": "markdown",
   "id": "ec995c11",
   "metadata": {},
   "source": [
    "Lets plot a line graph for Year and Annual flood"
   ]
  },
  {
   "cell_type": "code",
   "execution_count": 15,
   "id": "00b90248",
   "metadata": {},
   "outputs": [
    {
     "data": {
      "text/plain": [
       "Text(0.5, 1.0, 'LOWEST ANNUAL RAIN FALL INDEX GRAPH')"
      ]
     },
     "execution_count": 15,
     "metadata": {},
     "output_type": "execute_result"
    },
    {
     "data": {
      "image/png": "[encoded data removed]",
      "text/plain": [
       "<Figure size 432x288 with 1 Axes>"
      ]
     },
     "metadata": {
      "needs_background": "light"
     },
     "output_type": "display_data"
    }
   ],
   "source": [
    "#fns.head(10)\n",
    "snb.lineplot(data = fns, y = 'ANNUAL_RAINFALL', x = 'YEAR')\n",
    "plt.title('LOWEST ANNUAL RAIN FALL INDEX GRAPH')"
   ]
  },
  {
   "cell_type": "markdown",
   "id": "3a011de2",
   "metadata": {},
   "source": [
    "A line graph that shows the trend of lowest rain fall"
   ]
  },
  {
   "cell_type": "code",
   "execution_count": 97,
   "id": "515d8519",
   "metadata": {},
   "outputs": [
    {
     "data": {
      "text/html": [
       "<div>\n",
       "<style scoped>\n",
       "    .dataframe tbody tr th:only-of-type {\n",
       "        vertical-align: middle;\n",
       "    }\n",
       "\n",
       "    .dataframe tbody tr th {\n",
       "        vertical-align: top;\n",
       "    }\n",
       "\n",
       "    .dataframe thead th {\n",
       "        text-align: right;\n",
       "    }\n",
       "</style>\n",
       "<table border=\"1\" class=\"dataframe\">\n",
       "  <thead>\n",
       "    <tr style=\"text-align: right;\">\n",
       "      <th></th>\n",
       "      <th>SUBDIVISION</th>\n",
       "      <th>YEAR</th>\n",
       "      <th>JAN</th>\n",
       "      <th>FEB</th>\n",
       "      <th>MAR</th>\n",
       "      <th>APR</th>\n",
       "      <th>MAY</th>\n",
       "      <th>JUN</th>\n",
       "      <th>JUL</th>\n",
       "      <th>AUG</th>\n",
       "      <th>SEP</th>\n",
       "      <th>OCT</th>\n",
       "      <th>NOV</th>\n",
       "      <th>DEC</th>\n",
       "      <th>ANNUAL_RAINFALL</th>\n",
       "      <th>FLOODS</th>\n",
       "    </tr>\n",
       "  </thead>\n",
       "  <tbody>\n",
       "    <tr>\n",
       "      <th>117</th>\n",
       "      <td>KERALA</td>\n",
       "      <td>2018</td>\n",
       "      <td>29.1</td>\n",
       "      <td>52.1</td>\n",
       "      <td>48.6</td>\n",
       "      <td>116.4</td>\n",
       "      <td>183.8</td>\n",
       "      <td>625.4</td>\n",
       "      <td>1048.5</td>\n",
       "      <td>1398.9</td>\n",
       "      <td>423.6</td>\n",
       "      <td>356.1</td>\n",
       "      <td>125.4</td>\n",
       "      <td>65.1</td>\n",
       "      <td>4473.0</td>\n",
       "      <td>1</td>\n",
       "    </tr>\n",
       "    <tr>\n",
       "      <th>60</th>\n",
       "      <td>KERALA</td>\n",
       "      <td>1961</td>\n",
       "      <td>13.7</td>\n",
       "      <td>31.3</td>\n",
       "      <td>11.4</td>\n",
       "      <td>94.1</td>\n",
       "      <td>500.5</td>\n",
       "      <td>1005.2</td>\n",
       "      <td>1146.5</td>\n",
       "      <td>678.3</td>\n",
       "      <td>399.3</td>\n",
       "      <td>274.2</td>\n",
       "      <td>85.9</td>\n",
       "      <td>17.5</td>\n",
       "      <td>4257.8</td>\n",
       "      <td>1</td>\n",
       "    </tr>\n",
       "    <tr>\n",
       "      <th>23</th>\n",
       "      <td>KERALA</td>\n",
       "      <td>1924</td>\n",
       "      <td>19.3</td>\n",
       "      <td>2.9</td>\n",
       "      <td>66.6</td>\n",
       "      <td>111.0</td>\n",
       "      <td>185.4</td>\n",
       "      <td>1011.7</td>\n",
       "      <td>1526.5</td>\n",
       "      <td>624.0</td>\n",
       "      <td>289.1</td>\n",
       "      <td>176.5</td>\n",
       "      <td>162.9</td>\n",
       "      <td>50.4</td>\n",
       "      <td>4226.4</td>\n",
       "      <td>1</td>\n",
       "    </tr>\n",
       "    <tr>\n",
       "      <th>32</th>\n",
       "      <td>KERALA</td>\n",
       "      <td>1933</td>\n",
       "      <td>1.0</td>\n",
       "      <td>9.3</td>\n",
       "      <td>36.9</td>\n",
       "      <td>139.5</td>\n",
       "      <td>738.8</td>\n",
       "      <td>859.3</td>\n",
       "      <td>773.4</td>\n",
       "      <td>479.5</td>\n",
       "      <td>469.7</td>\n",
       "      <td>397.0</td>\n",
       "      <td>126.1</td>\n",
       "      <td>42.3</td>\n",
       "      <td>4072.9</td>\n",
       "      <td>1</td>\n",
       "    </tr>\n",
       "    <tr>\n",
       "      <th>58</th>\n",
       "      <td>KERALA</td>\n",
       "      <td>1959</td>\n",
       "      <td>3.0</td>\n",
       "      <td>21.4</td>\n",
       "      <td>6.3</td>\n",
       "      <td>150.7</td>\n",
       "      <td>347.2</td>\n",
       "      <td>872.8</td>\n",
       "      <td>1155.7</td>\n",
       "      <td>397.3</td>\n",
       "      <td>405.5</td>\n",
       "      <td>200.4</td>\n",
       "      <td>151.9</td>\n",
       "      <td>34.0</td>\n",
       "      <td>3746.0</td>\n",
       "      <td>1</td>\n",
       "    </tr>\n",
       "    <tr>\n",
       "      <th>6</th>\n",
       "      <td>KERALA</td>\n",
       "      <td>1907</td>\n",
       "      <td>18.8</td>\n",
       "      <td>4.8</td>\n",
       "      <td>55.7</td>\n",
       "      <td>170.8</td>\n",
       "      <td>101.4</td>\n",
       "      <td>770.9</td>\n",
       "      <td>760.4</td>\n",
       "      <td>981.5</td>\n",
       "      <td>225.0</td>\n",
       "      <td>309.7</td>\n",
       "      <td>219.1</td>\n",
       "      <td>52.8</td>\n",
       "      <td>3671.1</td>\n",
       "      <td>1</td>\n",
       "    </tr>\n",
       "    <tr>\n",
       "      <th>45</th>\n",
       "      <td>KERALA</td>\n",
       "      <td>1946</td>\n",
       "      <td>1.8</td>\n",
       "      <td>5.4</td>\n",
       "      <td>108.4</td>\n",
       "      <td>139.8</td>\n",
       "      <td>83.0</td>\n",
       "      <td>919.0</td>\n",
       "      <td>671.7</td>\n",
       "      <td>695.6</td>\n",
       "      <td>199.4</td>\n",
       "      <td>266.1</td>\n",
       "      <td>273.0</td>\n",
       "      <td>202.3</td>\n",
       "      <td>3565.5</td>\n",
       "      <td>1</td>\n",
       "    </tr>\n",
       "    <tr>\n",
       "      <th>74</th>\n",
       "      <td>KERALA</td>\n",
       "      <td>1975</td>\n",
       "      <td>5.2</td>\n",
       "      <td>21.4</td>\n",
       "      <td>63.4</td>\n",
       "      <td>123.8</td>\n",
       "      <td>162.2</td>\n",
       "      <td>864.4</td>\n",
       "      <td>531.3</td>\n",
       "      <td>675.9</td>\n",
       "      <td>457.7</td>\n",
       "      <td>368.9</td>\n",
       "      <td>204.3</td>\n",
       "      <td>19.9</td>\n",
       "      <td>3498.4</td>\n",
       "      <td>1</td>\n",
       "    </tr>\n",
       "    <tr>\n",
       "      <th>106</th>\n",
       "      <td>KERALA</td>\n",
       "      <td>2007</td>\n",
       "      <td>0.5</td>\n",
       "      <td>5.6</td>\n",
       "      <td>7.3</td>\n",
       "      <td>138.5</td>\n",
       "      <td>192.7</td>\n",
       "      <td>705.9</td>\n",
       "      <td>966.3</td>\n",
       "      <td>489.6</td>\n",
       "      <td>526.7</td>\n",
       "      <td>357.2</td>\n",
       "      <td>87.4</td>\n",
       "      <td>11.9</td>\n",
       "      <td>3489.6</td>\n",
       "      <td>1</td>\n",
       "    </tr>\n",
       "    <tr>\n",
       "      <th>22</th>\n",
       "      <td>KERALA</td>\n",
       "      <td>1923</td>\n",
       "      <td>24.7</td>\n",
       "      <td>0.7</td>\n",
       "      <td>78.9</td>\n",
       "      <td>43.5</td>\n",
       "      <td>80.0</td>\n",
       "      <td>722.5</td>\n",
       "      <td>1008.7</td>\n",
       "      <td>943.0</td>\n",
       "      <td>254.3</td>\n",
       "      <td>203.1</td>\n",
       "      <td>83.9</td>\n",
       "      <td>41.6</td>\n",
       "      <td>3484.7</td>\n",
       "      <td>1</td>\n",
       "    </tr>\n",
       "  </tbody>\n",
       "</table>\n",
       "</div>"
      ],
      "text/plain": [
       "    SUBDIVISION  YEAR   JAN   FEB    MAR    APR    MAY     JUN     JUL  \\\n",
       "117      KERALA  2018  29.1  52.1   48.6  116.4  183.8   625.4  1048.5   \n",
       "60       KERALA  1961  13.7  31.3   11.4   94.1  500.5  1005.2  1146.5   \n",
       "23       KERALA  1924  19.3   2.9   66.6  111.0  185.4  1011.7  1526.5   \n",
       "32       KERALA  1933   1.0   9.3   36.9  139.5  738.8   859.3   773.4   \n",
       "58       KERALA  1959   3.0  21.4    6.3  150.7  347.2   872.8  1155.7   \n",
       "6        KERALA  1907  18.8   4.8   55.7  170.8  101.4   770.9   760.4   \n",
       "45       KERALA  1946   1.8   5.4  108.4  139.8   83.0   919.0   671.7   \n",
       "74       KERALA  1975   5.2  21.4   63.4  123.8  162.2   864.4   531.3   \n",
       "106      KERALA  2007   0.5   5.6    7.3  138.5  192.7   705.9   966.3   \n",
       "22       KERALA  1923  24.7   0.7   78.9   43.5   80.0   722.5  1008.7   \n",
       "\n",
       "        AUG    SEP    OCT    NOV    DEC  ANNUAL_RAINFALL  FLOODS  \n",
       "117  1398.9  423.6  356.1  125.4   65.1           4473.0       1  \n",
       "60    678.3  399.3  274.2   85.9   17.5           4257.8       1  \n",
       "23    624.0  289.1  176.5  162.9   50.4           4226.4       1  \n",
       "32    479.5  469.7  397.0  126.1   42.3           4072.9       1  \n",
       "58    397.3  405.5  200.4  151.9   34.0           3746.0       1  \n",
       "6     981.5  225.0  309.7  219.1   52.8           3671.1       1  \n",
       "45    695.6  199.4  266.1  273.0  202.3           3565.5       1  \n",
       "74    675.9  457.7  368.9  204.3   19.9           3498.4       1  \n",
       "106   489.6  526.7  357.2   87.4   11.9           3489.6       1  \n",
       "22    943.0  254.3  203.1   83.9   41.6           3484.7       1  "
      ]
     },
     "execution_count": 97,
     "metadata": {},
     "output_type": "execute_result"
    }
   ],
   "source": [
    "#snb.countplot(data = fd, x = 'FLOODS')\n",
    "fnl = fd.nlargest(10, 'ANNUAL_RAINFALL')\n",
    "fnl"
   ]
  },
  {
   "cell_type": "markdown",
   "id": "37bcd53f",
   "metadata": {},
   "source": [
    "you can see the years with the highest rain fall index and and it flood in these years"
   ]
  },
  {
   "cell_type": "code",
   "execution_count": 18,
   "id": "3231e9aa",
   "metadata": {},
   "outputs": [
    {
     "data": {
      "text/plain": [
       "Text(0.5, 1.0, 'HIGHEST ANNUAL RAIN FALL INDEX GRAPH')"
      ]
     },
     "execution_count": 18,
     "metadata": {},
     "output_type": "execute_result"
    },
    {
     "data": {
      "image/png": "[encoded data removed]",
      "text/plain": [
       "<Figure size 432x288 with 1 Axes>"
      ]
     },
     "metadata": {
      "needs_background": "light"
     },
     "output_type": "display_data"
    }
   ],
   "source": [
    "snb.lineplot(data = fnl, y = 'ANNUAL_RAINFALL', x = 'YEAR') \n",
    "plt.title('HIGHEST ANNUAL RAIN FALL INDEX GRAPH')\n",
    "#pd.crosstab(fd['YEAR'], fd['MAY'])"
   ]
  },
  {
   "cell_type": "markdown",
   "id": "77664f32",
   "metadata": {},
   "source": [
    "A line graph that shows the trend of highest rain fall"
   ]
  },
  {
   "cell_type": "code",
   "execution_count": 20,
   "id": "1ccf7975",
   "metadata": {},
   "outputs": [
    {
     "data": {
      "text/plain": [
       "Text(0.5, 1.0, 'FLOOD CLASSIFICATION GRAPH')"
      ]
     },
     "execution_count": 20,
     "metadata": {},
     "output_type": "execute_result"
    },
    {
     "data": {
      "image/png": "[encoded data removed]",
      "text/plain": [
       "<Figure size 432x288 with 1 Axes>"
      ]
     },
     "metadata": {
      "needs_background": "light"
     },
     "output_type": "display_data"
    }
   ],
   "source": [
    "snb.countplot(data = fd, x = 'FLOODS')\n",
    "plt.title('FLOOD CLASSIFICATION GRAPH')"
   ]
  },
  {
   "cell_type": "markdown",
   "id": "546e78a2",
   "metadata": {},
   "source": [
    "You can see, the prediction class is balance"
   ]
  },
  {
   "cell_type": "markdown",
   "id": "95a100df",
   "metadata": {},
   "source": [
    "Lets plot a graph of raining season and dry season check the trend of the rain fall\n",
    "\n",
    "#### NOTE:\n",
    "\n",
    "RAINING SEASON TAKES LEFT HAND SIDE WHILE RIGHT HAND SIDE TAKES THE DRY SEASON FOR EASY UNDERSTANDING"
   ]
  },
  {
   "cell_type": "code",
   "execution_count": 22,
   "id": "718af73c",
   "metadata": {},
   "outputs": [],
   "source": [
    "rain_season = fd[['APR','JAN','MAY', 'FEB', 'JUN','MAR']]\n",
    "dry_season = fd[['JUL','OCT', 'AUG', 'SEP', 'NOV','DEC']]"
   ]
  },
  {
   "cell_type": "code",
   "execution_count": 25,
   "id": "6a3372c7",
   "metadata": {},
   "outputs": [
    {
     "data": {
      "image/png": "[encoded data removed]",
      "text/plain": [
       "<Figure size 432x288 with 6 Axes>"
      ]
     },
     "metadata": {
      "needs_background": "light"
     },
     "output_type": "display_data"
    }
   ],
   "source": [
    "#for i in rain_season:\n",
    "rain_season.hist()\n",
    "#plt.title('RAINING SEASON VS DRY SEASON')\n",
    "plt.show()"
   ]
  },
  {
   "cell_type": "code",
   "execution_count": 24,
   "id": "9c5876b0",
   "metadata": {},
   "outputs": [
    {
     "data": {
      "image/png": "[encoded data removed]",
      "text/plain": [
       "<Figure size 432x288 with 6 Axes>"
      ]
     },
     "metadata": {
      "needs_background": "light"
     },
     "output_type": "display_data"
    }
   ],
   "source": [
    "dry_season.hist()\n",
    "#plt.title('RAINING SEASON VS DRY SEASON')\n",
    "plt.show()"
   ]
  },
  {
   "cell_type": "markdown",
   "id": "5f34b4db",
   "metadata": {},
   "source": [
    "This graphs show that it rains more in RAINING SEASON MONTH AND SUPRISINGLY IT RAINS WELL IN SEPTEMBER, OCTOBER NOVEMBER & DECEMBER"
   ]
  },
  {
   "cell_type": "markdown",
   "id": "fcf8d254",
   "metadata": {},
   "source": [
    "Delete SUBDIVISION COLUMN"
   ]
  },
  {
   "cell_type": "code",
   "execution_count": 16,
   "id": "7ad2da16",
   "metadata": {},
   "outputs": [],
   "source": [
    "fd = fd.drop(['SUBDIVISION', 'YEAR'], axis = 1)"
   ]
  },
  {
   "cell_type": "markdown",
   "id": "8e0f1b5b",
   "metadata": {},
   "source": [
    "Lets look in to the data summary again"
   ]
  },
  {
   "cell_type": "code",
   "execution_count": 26,
   "id": "20bec6f7",
   "metadata": {
    "scrolled": true
   },
   "outputs": [
    {
     "data": {
      "text/html": [
       "<div>\n",
       "<style scoped>\n",
       "    .dataframe tbody tr th:only-of-type {\n",
       "        vertical-align: middle;\n",
       "    }\n",
       "\n",
       "    .dataframe tbody tr th {\n",
       "        vertical-align: top;\n",
       "    }\n",
       "\n",
       "    .dataframe thead th {\n",
       "        text-align: right;\n",
       "    }\n",
       "</style>\n",
       "<table border=\"1\" class=\"dataframe\">\n",
       "  <thead>\n",
       "    <tr style=\"text-align: right;\">\n",
       "      <th></th>\n",
       "      <th>YEAR</th>\n",
       "      <th>JAN</th>\n",
       "      <th>FEB</th>\n",
       "      <th>MAR</th>\n",
       "      <th>APR</th>\n",
       "      <th>MAY</th>\n",
       "      <th>JUN</th>\n",
       "      <th>JUL</th>\n",
       "      <th>AUG</th>\n",
       "      <th>SEP</th>\n",
       "      <th>OCT</th>\n",
       "      <th>NOV</th>\n",
       "      <th>DEC</th>\n",
       "      <th>ANNUAL_RAINFALL</th>\n",
       "    </tr>\n",
       "  </thead>\n",
       "  <tbody>\n",
       "    <tr>\n",
       "      <th>count</th>\n",
       "      <td>118.000000</td>\n",
       "      <td>118.000000</td>\n",
       "      <td>118.000000</td>\n",
       "      <td>118.000000</td>\n",
       "      <td>118.000000</td>\n",
       "      <td>118.000000</td>\n",
       "      <td>118.000000</td>\n",
       "      <td>118.000000</td>\n",
       "      <td>118.000000</td>\n",
       "      <td>118.000000</td>\n",
       "      <td>118.000000</td>\n",
       "      <td>118.000000</td>\n",
       "      <td>118.000000</td>\n",
       "      <td>118.000000</td>\n",
       "    </tr>\n",
       "    <tr>\n",
       "      <th>mean</th>\n",
       "      <td>1959.500000</td>\n",
       "      <td>12.218644</td>\n",
       "      <td>15.633898</td>\n",
       "      <td>36.670339</td>\n",
       "      <td>110.330508</td>\n",
       "      <td>228.644915</td>\n",
       "      <td>651.617797</td>\n",
       "      <td>698.220339</td>\n",
       "      <td>430.369492</td>\n",
       "      <td>246.207627</td>\n",
       "      <td>293.207627</td>\n",
       "      <td>162.311017</td>\n",
       "      <td>40.009322</td>\n",
       "      <td>2925.405085</td>\n",
       "    </tr>\n",
       "    <tr>\n",
       "      <th>std</th>\n",
       "      <td>34.207699</td>\n",
       "      <td>15.473766</td>\n",
       "      <td>16.406290</td>\n",
       "      <td>30.063862</td>\n",
       "      <td>44.633452</td>\n",
       "      <td>147.548778</td>\n",
       "      <td>186.181363</td>\n",
       "      <td>228.988966</td>\n",
       "      <td>181.980463</td>\n",
       "      <td>121.901131</td>\n",
       "      <td>93.705253</td>\n",
       "      <td>83.200485</td>\n",
       "      <td>36.676330</td>\n",
       "      <td>452.169407</td>\n",
       "    </tr>\n",
       "    <tr>\n",
       "      <th>min</th>\n",
       "      <td>1901.000000</td>\n",
       "      <td>0.000000</td>\n",
       "      <td>0.000000</td>\n",
       "      <td>0.100000</td>\n",
       "      <td>13.100000</td>\n",
       "      <td>53.400000</td>\n",
       "      <td>196.800000</td>\n",
       "      <td>167.500000</td>\n",
       "      <td>178.600000</td>\n",
       "      <td>41.300000</td>\n",
       "      <td>68.500000</td>\n",
       "      <td>31.500000</td>\n",
       "      <td>0.100000</td>\n",
       "      <td>2068.800000</td>\n",
       "    </tr>\n",
       "    <tr>\n",
       "      <th>25%</th>\n",
       "      <td>1930.250000</td>\n",
       "      <td>2.175000</td>\n",
       "      <td>4.700000</td>\n",
       "      <td>18.100000</td>\n",
       "      <td>74.350000</td>\n",
       "      <td>125.050000</td>\n",
       "      <td>535.550000</td>\n",
       "      <td>533.200000</td>\n",
       "      <td>316.725000</td>\n",
       "      <td>155.425000</td>\n",
       "      <td>222.125000</td>\n",
       "      <td>93.025000</td>\n",
       "      <td>10.350000</td>\n",
       "      <td>2613.525000</td>\n",
       "    </tr>\n",
       "    <tr>\n",
       "      <th>50%</th>\n",
       "      <td>1959.500000</td>\n",
       "      <td>5.800000</td>\n",
       "      <td>8.350000</td>\n",
       "      <td>28.400000</td>\n",
       "      <td>110.400000</td>\n",
       "      <td>184.600000</td>\n",
       "      <td>625.600000</td>\n",
       "      <td>691.650000</td>\n",
       "      <td>386.250000</td>\n",
       "      <td>223.550000</td>\n",
       "      <td>284.300000</td>\n",
       "      <td>152.450000</td>\n",
       "      <td>31.100000</td>\n",
       "      <td>2934.300000</td>\n",
       "    </tr>\n",
       "    <tr>\n",
       "      <th>75%</th>\n",
       "      <td>1988.750000</td>\n",
       "      <td>18.175000</td>\n",
       "      <td>21.400000</td>\n",
       "      <td>49.825000</td>\n",
       "      <td>136.450000</td>\n",
       "      <td>264.875000</td>\n",
       "      <td>786.975000</td>\n",
       "      <td>832.425000</td>\n",
       "      <td>500.100000</td>\n",
       "      <td>334.500000</td>\n",
       "      <td>355.150000</td>\n",
       "      <td>218.325000</td>\n",
       "      <td>54.025000</td>\n",
       "      <td>3170.400000</td>\n",
       "    </tr>\n",
       "    <tr>\n",
       "      <th>max</th>\n",
       "      <td>2018.000000</td>\n",
       "      <td>83.500000</td>\n",
       "      <td>79.000000</td>\n",
       "      <td>217.200000</td>\n",
       "      <td>238.000000</td>\n",
       "      <td>738.800000</td>\n",
       "      <td>1098.200000</td>\n",
       "      <td>1526.500000</td>\n",
       "      <td>1398.900000</td>\n",
       "      <td>526.700000</td>\n",
       "      <td>567.900000</td>\n",
       "      <td>365.600000</td>\n",
       "      <td>202.300000</td>\n",
       "      <td>4473.000000</td>\n",
       "    </tr>\n",
       "  </tbody>\n",
       "</table>\n",
       "</div>"
      ],
      "text/plain": [
       "              YEAR         JAN         FEB         MAR         APR  \\\n",
       "count   118.000000  118.000000  118.000000  118.000000  118.000000   \n",
       "mean   1959.500000   12.218644   15.633898   36.670339  110.330508   \n",
       "std      34.207699   15.473766   16.406290   30.063862   44.633452   \n",
       "min    1901.000000    0.000000    0.000000    0.100000   13.100000   \n",
       "25%    1930.250000    2.175000    4.700000   18.100000   74.350000   \n",
       "50%    1959.500000    5.800000    8.350000   28.400000  110.400000   \n",
       "75%    1988.750000   18.175000   21.400000   49.825000  136.450000   \n",
       "max    2018.000000   83.500000   79.000000  217.200000  238.000000   \n",
       "\n",
       "              MAY          JUN          JUL          AUG         SEP  \\\n",
       "count  118.000000   118.000000   118.000000   118.000000  118.000000   \n",
       "mean   228.644915   651.617797   698.220339   430.369492  246.207627   \n",
       "std    147.548778   186.181363   228.988966   181.980463  121.901131   \n",
       "min     53.400000   196.800000   167.500000   178.600000   41.300000   \n",
       "25%    125.050000   535.550000   533.200000   316.725000  155.425000   \n",
       "50%    184.600000   625.600000   691.650000   386.250000  223.550000   \n",
       "75%    264.875000   786.975000   832.425000   500.100000  334.500000   \n",
       "max    738.800000  1098.200000  1526.500000  1398.900000  526.700000   \n",
       "\n",
       "              OCT         NOV         DEC  ANNUAL_RAINFALL  \n",
       "count  118.000000  118.000000  118.000000       118.000000  \n",
       "mean   293.207627  162.311017   40.009322      2925.405085  \n",
       "std     93.705253   83.200485   36.676330       452.169407  \n",
       "min     68.500000   31.500000    0.100000      2068.800000  \n",
       "25%    222.125000   93.025000   10.350000      2613.525000  \n",
       "50%    284.300000  152.450000   31.100000      2934.300000  \n",
       "75%    355.150000  218.325000   54.025000      3170.400000  \n",
       "max    567.900000  365.600000  202.300000      4473.000000  "
      ]
     },
     "execution_count": 26,
     "metadata": {},
     "output_type": "execute_result"
    }
   ],
   "source": [
    "fd.describe()"
   ]
  },
  {
   "cell_type": "markdown",
   "id": "ba709c5a",
   "metadata": {},
   "source": [
    "we have the highest annual rain fall to be 4473 and it floods why the lowest is 2068 and no flood with mean of 2934"
   ]
  },
  {
   "cell_type": "markdown",
   "id": "caacc483",
   "metadata": {},
   "source": [
    "Change the YES to 1 and No to 0 "
   ]
  },
  {
   "cell_type": "code",
   "execution_count": 27,
   "id": "6388ba58",
   "metadata": {},
   "outputs": [],
   "source": [
    "fd['FLOODS'] = fd['FLOODS'].apply(lambda x: 1 if x == 'YES' else 0)"
   ]
  },
  {
   "cell_type": "markdown",
   "id": "64a24b40",
   "metadata": {},
   "source": [
    "Lets check it out"
   ]
  },
  {
   "cell_type": "code",
   "execution_count": 34,
   "id": "dad9b1d1",
   "metadata": {},
   "outputs": [
    {
     "data": {
      "text/html": [
       "<div>\n",
       "<style scoped>\n",
       "    .dataframe tbody tr th:only-of-type {\n",
       "        vertical-align: middle;\n",
       "    }\n",
       "\n",
       "    .dataframe tbody tr th {\n",
       "        vertical-align: top;\n",
       "    }\n",
       "\n",
       "    .dataframe thead th {\n",
       "        text-align: right;\n",
       "    }\n",
       "</style>\n",
       "<table border=\"1\" class=\"dataframe\">\n",
       "  <thead>\n",
       "    <tr style=\"text-align: right;\">\n",
       "      <th></th>\n",
       "      <th>SUBDIVISION</th>\n",
       "      <th>YEAR</th>\n",
       "      <th>JAN</th>\n",
       "      <th>FEB</th>\n",
       "      <th>MAR</th>\n",
       "      <th>APR</th>\n",
       "      <th>MAY</th>\n",
       "      <th>JUN</th>\n",
       "      <th>JUL</th>\n",
       "      <th>AUG</th>\n",
       "      <th>SEP</th>\n",
       "      <th>OCT</th>\n",
       "      <th>NOV</th>\n",
       "      <th>DEC</th>\n",
       "      <th>ANNUAL_RAINFALL</th>\n",
       "      <th>FLOODS</th>\n",
       "    </tr>\n",
       "  </thead>\n",
       "  <tbody>\n",
       "    <tr>\n",
       "      <th>0</th>\n",
       "      <td>KERALA</td>\n",
       "      <td>1901</td>\n",
       "      <td>28.7</td>\n",
       "      <td>44.7</td>\n",
       "      <td>51.6</td>\n",
       "      <td>160.0</td>\n",
       "      <td>174.7</td>\n",
       "      <td>824.6</td>\n",
       "      <td>743.0</td>\n",
       "      <td>357.5</td>\n",
       "      <td>197.7</td>\n",
       "      <td>266.9</td>\n",
       "      <td>350.8</td>\n",
       "      <td>48.4</td>\n",
       "      <td>3248.6</td>\n",
       "      <td>1</td>\n",
       "    </tr>\n",
       "  </tbody>\n",
       "</table>\n",
       "</div>"
      ],
      "text/plain": [
       "  SUBDIVISION  YEAR   JAN   FEB   MAR    APR    MAY    JUN    JUL    AUG  \\\n",
       "0      KERALA  1901  28.7  44.7  51.6  160.0  174.7  824.6  743.0  357.5   \n",
       "\n",
       "     SEP    OCT    NOV   DEC  ANNUAL_RAINFALL  FLOODS  \n",
       "0  197.7  266.9  350.8  48.4           3248.6       1  "
      ]
     },
     "execution_count": 34,
     "metadata": {},
     "output_type": "execute_result"
    }
   ],
   "source": [
    "fd.head(1)"
   ]
  },
  {
   "cell_type": "markdown",
   "id": "391c9414",
   "metadata": {},
   "source": [
    "define the features and label"
   ]
  },
  {
   "cell_type": "code",
   "execution_count": 35,
   "id": "07e1ba86",
   "metadata": {},
   "outputs": [],
   "source": [
    "flood_features = ['JAN','FEB','MAR', 'APR','MAY', 'JUN', 'JUL','AUG','SEP', 'OCT', 'NOV', 'DEC', 'ANNUAL_RAINFALL']\n",
    "flood_label = 'FLOODS'"
   ]
  },
  {
   "cell_type": "markdown",
   "id": "fab1513a",
   "metadata": {},
   "source": [
    "Get the values of  of the features"
   ]
  },
  {
   "cell_type": "markdown",
   "id": "867767b7",
   "metadata": {},
   "source": [
    "Code"
   ]
  },
  {
   "cell_type": "code",
   "execution_count": 36,
   "id": "483afb0c",
   "metadata": {},
   "outputs": [],
   "source": [
    "X, y = fd[flood_features].values, fd[flood_label].values"
   ]
  },
  {
   "cell_type": "markdown",
   "id": "3306e2f2",
   "metadata": {},
   "source": [
    "Displaying the dataset label with thier  features"
   ]
  },
  {
   "cell_type": "code",
   "execution_count": 37,
   "id": "31ec2da2",
   "metadata": {},
   "outputs": [
    {
     "name": "stdout",
     "output_type": "stream",
     "text": [
      "Flood 1 \n",
      ": Flood Features [28.7, 44.7, 51.6, 160.0, 174.7, 824.6, 743.0, 357.5, 197.7, 266.9, 350.8, 48.4, 3248.6] \n",
      ": Label 1\n",
      "Flood 2 \n",
      ": Flood Features [6.7, 2.6, 57.3, 83.9, 134.5, 390.9, 1205.0, 315.8, 491.6, 358.4, 158.3, 121.5, 3326.6] \n",
      ": Label 1\n",
      "Flood 3 \n",
      ": Flood Features [3.2, 18.6, 3.1, 83.6, 249.7, 558.6, 1022.5, 420.2, 341.8, 354.1, 157.0, 59.0, 3271.2] \n",
      ": Label 1\n",
      "Flood 4 \n",
      ": Flood Features [23.7, 3.0, 32.2, 71.5, 235.7, 1098.2, 725.5, 351.8, 222.7, 328.1, 33.9, 3.3, 3129.7] \n",
      ": Label 1\n",
      "Flood 5 \n",
      ": Flood Features [1.2, 22.3, 9.4, 105.9, 263.3, 850.2, 520.5, 293.6, 217.2, 383.5, 74.4, 0.2, 2741.6] \n",
      ": Label 0\n"
     ]
    }
   ],
   "source": [
    "for n in range(0,5):\n",
    "    print('Flood',str(n+1), '\\n: Flood Features', list(X[n]), '\\n: Label', y[n])"
   ]
  },
  {
   "cell_type": "markdown",
   "id": "f27c7e67",
   "metadata": {},
   "source": [
    "Split the dataset into 2, 70% to train & 30% to test"
   ]
  },
  {
   "cell_type": "markdown",
   "id": "e2b66435",
   "metadata": {},
   "source": [
    "Code"
   ]
  },
  {
   "cell_type": "code",
   "execution_count": 38,
   "id": "f8900b41",
   "metadata": {},
   "outputs": [],
   "source": [
    "from sklearn.model_selection import train_test_split\n",
    "X_train, X_test, y_train, y_test = train_test_split(X,y, test_size =0.30, random_state = 0)"
   ]
  },
  {
   "cell_type": "markdown",
   "id": "d87c4d1a",
   "metadata": {},
   "source": [
    "Lets Check the sum of the training & testing dataset"
   ]
  },
  {
   "cell_type": "code",
   "execution_count": 39,
   "id": "36c09828",
   "metadata": {},
   "outputs": [
    {
     "name": "stdout",
     "output_type": "stream",
     "text": [
      "82 36\n"
     ]
    }
   ],
   "source": [
    "print(X_train.shape[0], X_test.shape[0])"
   ]
  },
  {
   "cell_type": "markdown",
   "id": "64924346",
   "metadata": {},
   "source": [
    "It is important to set a regularization parameter.\n",
    "this is used to counter any bias in the sample and help model to generalise well by avoiding overfitting the model to the training data."
   ]
  },
  {
   "cell_type": "markdown",
   "id": "a2974d9f",
   "metadata": {},
   "source": [
    "set the regularization rate to 0.01 & define the Algorithm to be used (LogisticRegression), then print the model"
   ]
  },
  {
   "cell_type": "code",
   "execution_count": 40,
   "id": "feddd4ad",
   "metadata": {},
   "outputs": [
    {
     "name": "stdout",
     "output_type": "stream",
     "text": [
      "LogisticRegression(C=100.0, solver='liblinear')\n"
     ]
    }
   ],
   "source": [
    "reg = 0.01\n",
    "model = LogisticRegression(C = 1/reg,  solver = 'liblinear').fit(X_train,y_train)\n",
    "print(model)"
   ]
  },
  {
   "cell_type": "markdown",
   "id": "cb7f1dbe",
   "metadata": {},
   "source": [
    "evaluate the model using the test dataset & compare the predicted labels to known label"
   ]
  },
  {
   "cell_type": "code",
   "execution_count": 41,
   "id": "27ff4453",
   "metadata": {},
   "outputs": [
    {
     "name": "stdout",
     "output_type": "stream",
     "text": [
      "PREDICTIONS [0 0 1 1 0 1 0 0 1 0 0 1 1 0 1 0 1 0 0 0 0 0 0 1 1 1 1 0 1 1 0 1 1 1 1 0]\n",
      "ACTUAL      [0 0 0 1 0 1 0 0 1 0 0 1 1 0 1 0 1 0 0 0 0 0 0 1 1 0 0 0 1 1 0 1 1 1 1 0]\n"
     ]
    }
   ],
   "source": [
    "prediction = model.predict(X_test)\n",
    "print('PREDICTIONS', prediction)\n",
    "print('ACTUAL     ',y_test)"
   ]
  },
  {
   "cell_type": "markdown",
   "id": "871e3ba7",
   "metadata": {},
   "source": [
    "Out of 36 rows that was used for the test, its only predicted 3 wrongly which is still very owkay"
   ]
  },
  {
   "cell_type": "markdown",
   "id": "8a5fa4e9",
   "metadata": {},
   "source": [
    "# Metrics & Evaluation"
   ]
  },
  {
   "cell_type": "markdown",
   "id": "f0c4635a",
   "metadata": {},
   "source": [
    "### 1- Accuracy"
   ]
  },
  {
   "cell_type": "code",
   "execution_count": 43,
   "id": "946c57da",
   "metadata": {},
   "outputs": [
    {
     "name": "stdout",
     "output_type": "stream",
     "text": [
      "91.66666666666666\n"
     ]
    }
   ],
   "source": [
    "#importing metrics library\n",
    "from sklearn.metrics import accuracy_score\n",
    "from sklearn.metrics import classification_report, f1_score, precision_score, recall_score, roc_auc_score, confusion_matrix, roc_curve\n",
    "ac_score = accuracy_score(prediction, y_test)*100\n",
    "print(ac_score)"
   ]
  },
  {
   "cell_type": "markdown",
   "id": "e3edd685",
   "metadata": {},
   "source": [
    "We have 91% accuracy which is better, Accurance is a good metric used in classification, however it works well if the classififcation is balance but it can be misleading if otherwise"
   ]
  },
  {
   "cell_type": "markdown",
   "id": "539d7847",
   "metadata": {},
   "source": [
    "### Recall & Precision"
   ]
  },
  {
   "cell_type": "markdown",
   "id": "df165d11",
   "metadata": {},
   "source": [
    "Precision: Of all the predictions the model made for the class, how many were correct\n",
    "\n",
    "Recall: Out of all the instances of this class on the test dataset, how many proportion did the model identify"
   ]
  },
  {
   "cell_type": "code",
   "execution_count": 45,
   "id": "e39dcaf0",
   "metadata": {},
   "outputs": [
    {
     "name": "stdout",
     "output_type": "stream",
     "text": [
      "PRECISION: 83.33333333333334\n",
      "RECALL:    100.0\n"
     ]
    }
   ],
   "source": [
    "recal = recall_score(y_test,prediction)*100\n",
    "precision = precision_score(y_test,prediction)*100\n",
    "print('PRECISION:',precision)\n",
    "print('RECALL:   ',recal)\n"
   ]
  },
  {
   "cell_type": "markdown",
   "id": "19eb401e",
   "metadata": {},
   "source": [
    "83% of the model predictions were correct\n",
    "and the model was able to identify 100% proportion"
   ]
  },
  {
   "cell_type": "markdown",
   "id": "1f0bc15a",
   "metadata": {},
   "source": [
    "## Classification Report Summary"
   ]
  },
  {
   "cell_type": "code",
   "execution_count": 283,
   "id": "a6e928ed",
   "metadata": {},
   "outputs": [
    {
     "name": "stdout",
     "output_type": "stream",
     "text": [
      "              precision    recall  f1-score   support\n",
      "\n",
      "           0       1.00      0.86      0.92        21\n",
      "           1       0.83      1.00      0.91        15\n",
      "\n",
      "    accuracy                           0.92        36\n",
      "   macro avg       0.92      0.93      0.92        36\n",
      "weighted avg       0.93      0.92      0.92        36\n",
      "\n"
     ]
    }
   ],
   "source": [
    "classi = classification_report(y_test, prediction)\n",
    "print(classi)"
   ]
  },
  {
   "cell_type": "markdown",
   "id": "117484e4",
   "metadata": {},
   "source": [
    "Precision: Of all Years the model pridicted flood, how many were actually flood?\n",
    "\n",
    "Recall: Out of all years it flood, how many proportion did the model identify\n",
    "\n",
    "F1-Score: An average metric that takes both precision and recall into account\n",
    "\n",
    "Support:How many instances of this class are there in the test dataset\n",
    "\n",
    "The classification report also includes averages for these metrics, including a wighted average that allows for the imbalance in the number of cases of each class"
   ]
  },
  {
   "cell_type": "markdown",
   "id": "b31634f4",
   "metadata": {},
   "source": [
    "## Confussion Matrix"
   ]
  },
  {
   "cell_type": "markdown",
   "id": "c4a6103b",
   "metadata": {},
   "source": [
    "True Positives: The predicted label 1 and the actual are both 1\n",
    "\n",
    "False Positives: The predicted label is 1, but the actual label is 0\n",
    "\n",
    "False Negatives: The predicted label is 0 and the actual is 1\n",
    "\n",
    "False Positives: The predicted label is 0 and the actual is 0"
   ]
  },
  {
   "cell_type": "markdown",
   "id": "c0e2adce",
   "metadata": {},
   "source": [
    "TN\tFP\n",
    "\n",
    "FN\tTP"
   ]
  },
  {
   "cell_type": "markdown",
   "id": "b58a169f",
   "metadata": {},
   "source": [
    "The correct true predictions from diagonal line from top to left to bottom right, the figure should be significantly higher than the false predictions if the model is good"
   ]
  },
  {
   "cell_type": "code",
   "execution_count": 48,
   "id": "72092e0a",
   "metadata": {},
   "outputs": [
    {
     "name": "stdout",
     "output_type": "stream",
     "text": [
      "[[18  3]\n",
      " [ 0 15]]\n"
     ]
    }
   ],
   "source": [
    "cm = confusion_matrix(y_test, prediction)\n",
    "print(cm)"
   ]
  },
  {
   "cell_type": "markdown",
   "id": "acf12791",
   "metadata": {},
   "source": [
    "The confusion matrix shows that 18 & 15 out 36 testing dataset was classified correctly while 3 was classified wrongly \n",
    "which shows our Model perform better\n"
   ]
  },
  {
   "cell_type": "markdown",
   "id": "a6482897",
   "metadata": {},
   "source": [
    "Untill now, we've considered the predictions from the model as being eithe 1 or 0 class labels.\n",
    "Actually, things are a little complex than that. Statistical machine learning algorithms, like logistic regression,\n",
    "are based on probability;\n",
    "So what actually gets predicted by binary classifier is probability that the label is true(P(y)) and \n",
    "the probability that the label is false (1-P(y)). A threshold value of 0.5 is used to decide\n",
    "whether the predicted label is a 1 (P(y) > 0.5) or a 0 (P(y <= 0.5))\n",
    "You can use the predict_proba to see the probility pairs for each case"
   ]
  },
  {
   "cell_type": "code",
   "execution_count": 50,
   "id": "fc932e72",
   "metadata": {},
   "outputs": [
    {
     "name": "stdout",
     "output_type": "stream",
     "text": [
      "[[9.96901717e-01 3.09828282e-03]\n",
      " [9.98685297e-01 1.31470266e-03]\n",
      " [4.71732774e-01 5.28267226e-01]\n",
      " [3.96463131e-02 9.60353687e-01]\n",
      " [8.93045994e-01 1.06954006e-01]\n",
      " [2.23728454e-04 9.99776272e-01]\n",
      " [9.35323692e-01 6.46763077e-02]\n",
      " [5.04718753e-01 4.95281247e-01]\n",
      " [8.62132428e-05 9.99913787e-01]\n",
      " [8.47932904e-01 1.52067096e-01]\n",
      " [9.67791260e-01 3.22087399e-02]\n",
      " [1.29324851e-01 8.70675149e-01]\n",
      " [2.70989609e-02 9.72901039e-01]\n",
      " [9.99331263e-01 6.68736544e-04]\n",
      " [2.10664872e-07 9.99999789e-01]\n",
      " [7.28135763e-01 2.71864237e-01]\n",
      " [4.72147373e-03 9.95278526e-01]\n",
      " [9.75286425e-01 2.47135754e-02]\n",
      " [9.33544647e-01 6.64553530e-02]\n",
      " [9.99830146e-01 1.69853671e-04]\n",
      " [9.21255086e-01 7.87449142e-02]\n",
      " [9.99463270e-01 5.36730224e-04]\n",
      " [5.86430083e-01 4.13569917e-01]\n",
      " [7.52170046e-02 9.24782995e-01]\n",
      " [8.13210953e-02 9.18678905e-01]\n",
      " [2.92780029e-01 7.07219971e-01]\n",
      " [4.83944996e-01 5.16055004e-01]\n",
      " [8.63592406e-01 1.36407594e-01]\n",
      " [8.99077401e-02 9.10092260e-01]\n",
      " [2.36084404e-01 7.63915596e-01]\n",
      " [7.23133884e-01 2.76866116e-01]\n",
      " [9.95847520e-04 9.99004152e-01]\n",
      " [4.89769131e-02 9.51023087e-01]\n",
      " [5.11124770e-07 9.99999489e-01]\n",
      " [1.58092299e-02 9.84190770e-01]\n",
      " [9.06206025e-01 9.37939747e-02]]\n"
     ]
    }
   ],
   "source": [
    "#You can use the predict_proba method to see the probability pairs for each case:\n",
    "y_score = model.predict_proba(X_test)\n",
    "print(y_score)"
   ]
  },
  {
   "cell_type": "markdown",
   "id": "d1afe040",
   "metadata": {},
   "source": [
    "The decision to score a prediction as 1 or 0 depends on the threshold to which the predicted probabilities are compared,\n",
    "If we were to change the threshold, it wouls affect the predictions; and therefore change the metrics in confusion matrix.\n",
    "A common way to evaluate a classifier is to exsmine the true positive rate (which is another name for recall) and a false positive rate for a range of possible thresholds.\n",
    "These rates are then plotted against all possible thresholds to form a chart knon as a recieved operator characteristic (ROC) chart. like this"
   ]
  },
  {
   "cell_type": "code",
   "execution_count": 51,
   "id": "385ac69f",
   "metadata": {},
   "outputs": [],
   "source": [
    "roc_curve\n",
    "fpr, tpr , threshold = roc_curve(y_test, y_score[:,1])"
   ]
  },
  {
   "cell_type": "code",
   "execution_count": 53,
   "id": "f48745af",
   "metadata": {},
   "outputs": [
    {
     "data": {
      "image/png": "[encoded data removed]",
      "text/plain": [
       "<Figure size 360x360 with 1 Axes>"
      ]
     },
     "metadata": {
      "needs_background": "light"
     },
     "output_type": "display_data"
    }
   ],
   "source": [
    "fig = plt.figure(figsize = (5,5))\n",
    "plt.plot([0,1],[0,1], 'k--')\n",
    "plt.plot(fpr,tpr)\n",
    "plt.ylabel('FALSE POSITIVE')\n",
    "plt.xlabel('TRUE POSITIVE')\n",
    "plt.title('ROC CURVE')\n",
    "plt.show()"
   ]
  },
  {
   "cell_type": "markdown",
   "id": "9a5769c8",
   "metadata": {},
   "source": [
    "The ROC chart shows the curve of the true and false positive rates for different threshold values between 0 & 1\n",
    "A perfect classifier would have a curve that goes strsinght up the left aside and straight accrost the top.\n",
    "The diagonal line across the chart represents the probability of predicting correctly with 50/50 random prediction;\n",
    "so you obviously want the curve to be higher than that instead your model is no better than simply guessing"
   ]
  },
  {
   "cell_type": "markdown",
   "id": "543cd2a6",
   "metadata": {},
   "source": [
    "The area under the curve (AUC) is value between 0 & 1 that quantifies the overall performsnce of the model.\n",
    "The closer to 1 this value is, the better the model."
   ]
  },
  {
   "cell_type": "code",
   "execution_count": 54,
   "id": "049f07b3",
   "metadata": {},
   "outputs": [
    {
     "name": "stdout",
     "output_type": "stream",
     "text": [
      "1.0\n"
     ]
    }
   ],
   "source": [
    "roc = roc_auc_score(y_test, y_score[:,1])\n",
    "print(roc)"
   ]
  },
  {
   "cell_type": "code",
   "execution_count": null,
   "id": "9ff0b6ef",
   "metadata": {},
   "outputs": [],
   "source": [
    "In this case, The ROC and its AUC indicates that the model performs better than a random guess which is not bad considering we performed little preprocessing"
   ]
  },
  {
   "cell_type": "markdown",
   "id": "50721c18",
   "metadata": {},
   "source": [
    "\n",
    "# Preprocessing"
   ]
  },
  {
   "cell_type": "markdown",
   "id": "b399d9d5",
   "metadata": {},
   "source": [
    "In practice, it's common to perform some preprocessing of the data to make it easier for the algorithm to fit a model to it. \n",
    "There's a huge range of preprocessing transformations you can perform to get your data ready for modeling,\n",
    "but we'll limit ourselves to a few common techniques:\n"
   ]
  },
  {
   "cell_type": "markdown",
   "id": "ab638639",
   "metadata": {},
   "source": [
    "### Scalling"
   ]
  },
  {
   "cell_type": "markdown",
   "id": "a99b1f2a",
   "metadata": {},
   "source": [
    "Scaling numeric features so they're on the same scale. This prevents features with large values from producing coefficients that disproportionately affect the predictions."
   ]
  },
  {
   "cell_type": "markdown",
   "id": "cd5c9e1d",
   "metadata": {},
   "source": [
    "### Encoding"
   ]
  },
  {
   "cell_type": "markdown",
   "id": "b1d18e36",
   "metadata": {},
   "source": [
    "Encoding categorical variables. For example, by using a one hot encoding technique you can create individual binary (true/false) features for \n",
    "each possible category value."
   ]
  },
  {
   "cell_type": "markdown",
   "id": "f0c7073c",
   "metadata": {},
   "source": [
    "\n",
    "To apply these preprocessing transformations, we'll make use of a Scikit-Learn feature named pipelines. \n",
    "These enable us to define a set of preprocessing steps that end with an algorithm. \n",
    "You can then fit the entire pipeline to the data, so that the model encapsulates all of the preprocessing steps as well as the regression algorithm. \n",
    "This is useful, because when we want to use the model to predict values from new data,\n",
    "we need to apply the same transformations (based on the same statistical distributions and category encodings used with the training data)."
   ]
  },
  {
   "cell_type": "markdown",
   "id": "583e73db",
   "metadata": {},
   "source": [
    "Define preprocessing for numeric columns (scale them)"
   ]
  },
  {
   "cell_type": "code",
   "execution_count": 55,
   "id": "99afd638",
   "metadata": {},
   "outputs": [],
   "source": [
    "from sklearn.preprocessing import MinMaxScaler, StandardScaler\n",
    "from sklearn.compose import ColumnTransformer\n",
    "from sklearn.pipeline import Pipeline\n",
    "\n",
    "numeric_features = [0,1,2,3,4,5,6,7,8,9,10,11,12]\n",
    "feature_transformer= Pipeline (steps = [\n",
    "    ('scaler', StandardScaler())])"
   ]
  },
  {
   "cell_type": "markdown",
   "id": "8a0d005f",
   "metadata": {},
   "source": [
    "create preprocessing steps"
   ]
  },
  {
   "cell_type": "code",
   "execution_count": 56,
   "id": "e9f5f385",
   "metadata": {},
   "outputs": [],
   "source": [
    "preprocessor = ColumnTransformer(\n",
    "    transformers =[\n",
    "        ('preprocess', feature_transformer, numeric_features)\n",
    "    ])"
   ]
  },
  {
   "cell_type": "markdown",
   "id": "2b27ba9a",
   "metadata": {},
   "source": [
    " Create preprocessing and training pipeline"
   ]
  },
  {
   "cell_type": "code",
   "execution_count": 57,
   "id": "0a8850d5",
   "metadata": {},
   "outputs": [],
   "source": [
    "pipeline = Pipeline(steps=[\n",
    "    ('preprocessor', preprocessor),\n",
    "    ('loggressor',LogisticRegression(C=1/reg, solver ='liblinear'))\n",
    "])"
   ]
  },
  {
   "cell_type": "markdown",
   "id": "d66c6a61",
   "metadata": {},
   "source": [
    "fit the pipeline to train a logistic regression model on the training set"
   ]
  },
  {
   "cell_type": "code",
   "execution_count": 58,
   "id": "759a65c0",
   "metadata": {},
   "outputs": [],
   "source": [
    "model = pipeline.fit(X_train,y_train)"
   ]
  },
  {
   "cell_type": "markdown",
   "id": "23d4370b",
   "metadata": {},
   "source": [
    "OK, the model is trained, including the preprocessing steps. Let's see how it performs with the validation data."
   ]
  },
  {
   "cell_type": "markdown",
   "id": "4f7962f3",
   "metadata": {},
   "source": [
    "Let's use the model trained by this pipeline to predict labels for our test set, \n",
    "and compare the performance metrics with the basic model we created previously."
   ]
  },
  {
   "cell_type": "code",
   "execution_count": 62,
   "id": "0fd76acf",
   "metadata": {},
   "outputs": [
    {
     "name": "stdout",
     "output_type": "stream",
     "text": [
      "PREDICTIONS [0 0 0 1 0 1 0 0 1 0 0 1 1 0 1 0 1 0 0 0 0 0 0 1 1 1 1 0 1 1 0 1 1 1 1 0]\n",
      "ACTUAL      [0 0 0 1 0 1 0 0 1 0 0 1 1 0 1 0 1 0 0 0 0 0 0 1 1 0 0 0 1 1 0 1 1 1 1 0]\n"
     ]
    }
   ],
   "source": [
    "prediction = model.predict(X_test)\n",
    "print('PREDICTIONS',prediction)\n",
    "print('ACTUAL     ',y_test)"
   ]
  },
  {
   "cell_type": "markdown",
   "id": "eff689df",
   "metadata": {},
   "source": [
    "Check out predictions"
   ]
  },
  {
   "cell_type": "markdown",
   "id": "213efab7",
   "metadata": {},
   "source": [
    "# METRICS"
   ]
  },
  {
   "cell_type": "code",
   "execution_count": 63,
   "id": "f4d522e6",
   "metadata": {},
   "outputs": [
    {
     "name": "stdout",
     "output_type": "stream",
     "text": [
      "94.44444444444444\n",
      "100.0\n",
      "              precision    recall  f1-score   support\n",
      "\n",
      "           0       0.90      1.00      0.95        19\n",
      "           1       1.00      0.88      0.94        17\n",
      "\n",
      "    accuracy                           0.94        36\n",
      "   macro avg       0.95      0.94      0.94        36\n",
      "weighted avg       0.95      0.94      0.94        36\n",
      "\n",
      "0.9411764705882353\n",
      "[[19  2]\n",
      " [ 0 15]]\n"
     ]
    }
   ],
   "source": [
    "acL = accuracy_score(prediction, y_test)*100\n",
    "prec = precision_score(prediction, y_test)*100\n",
    "classi = classification_report(prediction,  y_test)\n",
    "roc = roc_auc_score(prediction, y_test)\n",
    "cm = confusion_matrix(y_test, prediction)\n",
    "print(acL)\n",
    "print(prec)\n",
    "print(classi)\n",
    "print(roc)\n",
    "print(cm)"
   ]
  },
  {
   "cell_type": "code",
   "execution_count": 65,
   "id": "161ea6aa",
   "metadata": {},
   "outputs": [
    {
     "name": "stdout",
     "output_type": "stream",
     "text": [
      "[[1.00000000e+00 8.20344583e-15]\n",
      " [1.00000000e+00 1.66360467e-16]\n",
      " [6.71810514e-01 3.28189486e-01]\n",
      " [2.90138598e-04 9.99709861e-01]\n",
      " [9.99933249e-01 6.67507926e-05]\n",
      " [0.00000000e+00 1.00000000e+00]\n",
      " [9.99998380e-01 1.61957613e-06]\n",
      " [9.99702864e-01 2.97136492e-04]\n",
      " [0.00000000e+00 1.00000000e+00]\n",
      " [9.99994124e-01 5.87559825e-06]\n",
      " [9.99999994e-01 6.29693311e-09]\n",
      " [3.58022139e-03 9.96419779e-01]\n",
      " [9.10603563e-08 9.99999909e-01]\n",
      " [1.00000000e+00 2.14308531e-14]\n",
      " [0.00000000e+00 1.00000000e+00]\n",
      " [9.89138513e-01 1.08614869e-02]\n",
      " [1.39444012e-13 1.00000000e+00]\n",
      " [9.99999999e-01 5.42452116e-10]\n",
      " [9.99999997e-01 2.72939453e-09]\n",
      " [1.00000000e+00 1.47373426e-17]\n",
      " [9.99974847e-01 2.51529215e-05]\n",
      " [1.00000000e+00 5.88064165e-14]\n",
      " [9.99949720e-01 5.02796592e-05]\n",
      " [3.73816657e-05 9.99962618e-01]\n",
      " [1.42662358e-05 9.99985734e-01]\n",
      " [2.85185830e-01 7.14814170e-01]\n",
      " [2.46387660e-01 7.53612340e-01]\n",
      " [9.99966512e-01 3.34882559e-05]\n",
      " [2.15622790e-02 9.78437721e-01]\n",
      " [5.13062122e-05 9.99948694e-01]\n",
      " [9.99975755e-01 2.42450105e-05]\n",
      " [2.97539771e-14 1.00000000e+00]\n",
      " [3.81854394e-04 9.99618146e-01]\n",
      " [0.00000000e+00 1.00000000e+00]\n",
      " [2.81763166e-06 9.99997182e-01]\n",
      " [9.99999445e-01 5.55049129e-07]]\n"
     ]
    }
   ],
   "source": [
    "y_score = model.predict_proba(X_test)\n",
    "print(y_score)"
   ]
  },
  {
   "cell_type": "code",
   "execution_count": 66,
   "id": "6fc649c8",
   "metadata": {},
   "outputs": [],
   "source": [
    "roc_curve\n",
    "fpr, tpr , threshold = roc_curve(y_test, y_score[:,1])"
   ]
  },
  {
   "cell_type": "markdown",
   "id": "48a4365b",
   "metadata": {},
   "source": [
    " Plot predicted vs actual"
   ]
  },
  {
   "cell_type": "code",
   "execution_count": 68,
   "id": "77db81bd",
   "metadata": {},
   "outputs": [
    {
     "data": {
      "image/png": "[encoded data removed]",
      "text/plain": [
       "<Figure size 360x360 with 1 Axes>"
      ]
     },
     "metadata": {
      "needs_background": "light"
     },
     "output_type": "display_data"
    }
   ],
   "source": [
    "fig = plt.figure(figsize = (5,5))\n",
    "plt.plot([0,1],[0,1], 'k--')\n",
    "plt.plot(fpr,tpr)\n",
    "plt.ylabel('FALSE POSITIVE')\n",
    "plt.xlabel('TRUE POSITIVE')\n",
    "plt.title('ROC CURVE')\n",
    "plt.show()"
   ]
  },
  {
   "cell_type": "code",
   "execution_count": 294,
   "id": "420591dd",
   "metadata": {},
   "outputs": [
    {
     "name": "stdout",
     "output_type": "stream",
     "text": [
      "1.0\n"
     ]
    }
   ],
   "source": [
    "roc = roc_auc_score(y_test, y_score[:,1])\n",
    "print(roc)"
   ]
  },
  {
   "cell_type": "markdown",
   "id": "25cff7b2",
   "metadata": {},
   "source": [
    "The results look a little better, so clearly preprocessing the data has made a difference."
   ]
  },
  {
   "cell_type": "markdown",
   "id": "46bf027b",
   "metadata": {},
   "source": [
    "The pipeline is composed of the transformations and the algorithm used to train the model. \n",
    "To try an alternative algorithm you can just change that step to a different kind of estimator."
   ]
  },
  {
   "cell_type": "markdown",
   "id": "868696ce",
   "metadata": {},
   "source": [
    "This time, We'll use the same preprocessing steps as before, but we'll train the model using named \n",
    "Random Forest that combines the outputs of multiple random decision trees"
   ]
  },
  {
   "cell_type": "code",
   "execution_count": 69,
   "id": "1e783463",
   "metadata": {},
   "outputs": [],
   "source": [
    "from sklearn.ensemble import RandomForestClassifier"
   ]
  },
  {
   "cell_type": "raw",
   "id": "cccb2517",
   "metadata": {},
   "source": [
    "# Use a different estimator in the pipeline\n",
    "# RANDOM FOREST"
   ]
  },
  {
   "cell_type": "code",
   "execution_count": 70,
   "id": "96d36f99",
   "metadata": {},
   "outputs": [],
   "source": [
    "pipeline = Pipeline(steps=[\n",
    "    ('preprocessor', preprocessor),\n",
    "    ('loggressor',RandomForestClassifier(n_estimators = 100))\n",
    "])"
   ]
  },
  {
   "cell_type": "markdown",
   "id": "d26c1ba6",
   "metadata": {},
   "source": [
    "fit the pipeline to train a Random Forest model on the training set"
   ]
  },
  {
   "cell_type": "code",
   "execution_count": 71,
   "id": "ae0f9084",
   "metadata": {},
   "outputs": [],
   "source": [
    "model = pipeline.fit(X_train,y_train)"
   ]
  },
  {
   "cell_type": "markdown",
   "id": "a1d267bf",
   "metadata": {},
   "source": [
    "Get predictions"
   ]
  },
  {
   "cell_type": "code",
   "execution_count": 72,
   "id": "dddd086e",
   "metadata": {},
   "outputs": [
    {
     "name": "stdout",
     "output_type": "stream",
     "text": [
      "PREDICTIONS [0 0 0 1 0 1 0 0 1 0 0 1 1 0 1 0 1 0 0 0 0 0 0 1 1 0 0 0 1 1 0 1 1 1 1 0]\n",
      "ACTUAL      [0 0 0 1 0 1 0 0 1 0 0 1 1 0 1 0 1 0 0 0 0 0 0 1 1 0 0 0 1 1 0 1 1 1 1 0]\n"
     ]
    }
   ],
   "source": [
    "prediction = model.predict(X_test)\n",
    "print('PREDICTIONS',prediction)\n",
    "print('ACTUAL     ',y_test)"
   ]
  },
  {
   "cell_type": "markdown",
   "id": "3eb58a3e",
   "metadata": {},
   "source": [
    "Display metrics"
   ]
  },
  {
   "cell_type": "code",
   "execution_count": 299,
   "id": "1813320f",
   "metadata": {},
   "outputs": [
    {
     "name": "stdout",
     "output_type": "stream",
     "text": [
      "100.0\n",
      "1.0\n",
      "              precision    recall  f1-score   support\n",
      "\n",
      "           0       1.00      1.00      1.00        21\n",
      "           1       1.00      1.00      1.00        15\n",
      "\n",
      "    accuracy                           1.00        36\n",
      "   macro avg       1.00      1.00      1.00        36\n",
      "weighted avg       1.00      1.00      1.00        36\n",
      "\n",
      "1.0\n",
      "[[21  0]\n",
      " [ 0 15]]\n"
     ]
    }
   ],
   "source": [
    "acR = accuracy_score(prediction, y_test)*100\n",
    "prec = precision_score(prediction, y_test)\n",
    "classi = classification_report(prediction,  y_test)\n",
    "roc = roc_auc_score(prediction, y_test)\n",
    "cm = confusion_matrix(y_test, prediction)\n",
    "print(acR)\n",
    "print(prec)\n",
    "print(classi)\n",
    "print(roc)\n",
    "print(cm)"
   ]
  },
  {
   "cell_type": "code",
   "execution_count": 74,
   "id": "bba50f4d",
   "metadata": {},
   "outputs": [],
   "source": [
    "y_score = model.predict_proba(X_test)\n",
    "#print(y_score)"
   ]
  },
  {
   "cell_type": "code",
   "execution_count": 75,
   "id": "3eb9e097",
   "metadata": {},
   "outputs": [],
   "source": [
    "roc_curve\n",
    "fpr, tpr , threshold = roc_curve(y_test, y_score[:,1])"
   ]
  },
  {
   "cell_type": "markdown",
   "id": "af8033ec",
   "metadata": {},
   "source": [
    "Plot predicted vs actual"
   ]
  },
  {
   "cell_type": "code",
   "execution_count": 76,
   "id": "aae1a581",
   "metadata": {},
   "outputs": [
    {
     "data": {
      "image/png": "[encoded data removed]",
      "text/plain": [
       "<Figure size 360x360 with 1 Axes>"
      ]
     },
     "metadata": {
      "needs_background": "light"
     },
     "output_type": "display_data"
    }
   ],
   "source": [
    "fig = plt.figure(figsize = (5,5))\n",
    "plt.plot([0,1],[0,1], 'k--')\n",
    "plt.plot(fpr,tpr)\n",
    "plt.ylabel('FALSE POSITIVE')\n",
    "plt.xlabel('TRUE POSITIVE')\n",
    "plt.title('ROC CURVE')\n",
    "plt.show()"
   ]
  },
  {
   "cell_type": "code",
   "execution_count": 77,
   "id": "d041e4c0",
   "metadata": {},
   "outputs": [
    {
     "name": "stdout",
     "output_type": "stream",
     "text": [
      "1.0\n"
     ]
    }
   ],
   "source": [
    "auc = roc_auc_score(y_test, y_score[:,1])\n",
    "print(auc)"
   ]
  },
  {
   "cell_type": "markdown",
   "id": "8186e2b0",
   "metadata": {},
   "source": [
    "That looks better!\n",
    "\n",
    "Use the Model for Inferencing\n",
    "\n",
    "Now that we have a reasonably useful trained model, we can save it for use later to predict labels for new data:"
   ]
  },
  {
   "cell_type": "code",
   "execution_count": null,
   "id": "51bdbeb7",
   "metadata": {},
   "outputs": [],
   "source": [
    "import joblib\n",
    "# Save the model as a pickle file\n",
    "filename = 'C:/Users/user/Desktop/new 1/data science/floods.pkl'\n",
    "joblib.dump(model, filename)"
   ]
  },
  {
   "cell_type": "code",
   "execution_count": null,
   "id": "1aa4f685",
   "metadata": {},
   "outputs": [],
   "source": []
  },
  {
   "cell_type": "markdown",
   "id": "0d77b192",
   "metadata": {},
   "source": [
    "# CONCLUSSION"
   ]
  },
  {
   "cell_type": "markdown",
   "id": "e19e0f08",
   "metadata": {},
   "source": [
    "It has been a good analysis looking from the angle of the features that influence the predictions\n",
    "It was however noted that the any annual rainfall index that is lower than 2934 will not flood that year \n",
    "but anything above that will flood\n",
    "However,It is worthy to be noted of July, August, September and October rainfall index as they are the major influence for flood to occur\n",
    "Therefore, the environmental management should highly priotize the said month and in other to prepare against the flood and lost of life and properties\n",
    "The preprocessing also improves our model performance as well which shows its own influence too\n",
    "More analyses and insight can as well be discovered as data insight does not have limitation"
   ]
  },
  {
   "cell_type": "markdown",
   "id": "b8d9a9f1",
   "metadata": {},
   "source": [
    "# Limitation"
   ]
  },
  {
   "cell_type": "markdown",
   "id": "8881d9ba",
   "metadata": {},
   "source": [
    "This might not be generally accepted due to different weather condition of some locations"
   ]
  }
 ],
 "metadata": {
  "kernelspec": {
   "display_name": "Python 3 (ipykernel)",
   "language": "python",
   "name": "python3"
  },
  "language_info": {
   "codemirror_mode": {
    "name": "ipython",
    "version": 3
   },
   "file_extension": ".py",
   "mimetype": "text/x-python",
   "name": "python",
   "nbconvert_exporter": "python",
   "pygments_lexer": "ipython3",
   "version": "3.9.5"
  }
 },
 "nbformat": 4,
 "nbformat_minor": 5
}
